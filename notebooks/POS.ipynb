{
 "cells": [
  {
   "cell_type": "code",
   "execution_count": 1,
   "id": "441ed02f-17f7-4dd9-98f7-82292665806a",
   "metadata": {},
   "outputs": [],
   "source": [
    "from datasets import load_dataset, load_metric"
   ]
  },
  {
   "cell_type": "markdown",
   "id": "e14df296-334e-459a-96d5-5de218c5aa45",
   "metadata": {},
   "source": [
    "we'll use the [CONLL 2003 dataset](https://www.aclweb.org/anthology/W03-0419.pdf)."
   ]
  },
  {
   "cell_type": "code",
   "execution_count": 2,
   "id": "4f6d0bec-8de2-4b00-87f8-888b33189597",
   "metadata": {},
   "outputs": [
    {
     "data": {
      "application/vnd.jupyter.widget-view+json": {
       "model_id": "7ba951833252445a98743954fa2c3871",
       "version_major": 2,
       "version_minor": 0
      },
      "text/plain": [
       "Downloading data:   0%|          | 0.00/1.23M [00:00<?, ?B/s]"
      ]
     },
     "metadata": {},
     "output_type": "display_data"
    },
    {
     "data": {
      "application/vnd.jupyter.widget-view+json": {
       "model_id": "676a74f2832a442bb33ef831092ae991",
       "version_major": 2,
       "version_minor": 0
      },
      "text/plain": [
       "Downloading data:   0%|          | 0.00/312k [00:00<?, ?B/s]"
      ]
     },
     "metadata": {},
     "output_type": "display_data"
    },
    {
     "data": {
      "application/vnd.jupyter.widget-view+json": {
       "model_id": "b7fff343be2e40268e1dafb7a39a2e9c",
       "version_major": 2,
       "version_minor": 0
      },
      "text/plain": [
       "Downloading data:   0%|          | 0.00/283k [00:00<?, ?B/s]"
      ]
     },
     "metadata": {},
     "output_type": "display_data"
    },
    {
     "data": {
      "application/vnd.jupyter.widget-view+json": {
       "model_id": "b88af1da20e040c1a8a88333c9b910d6",
       "version_major": 2,
       "version_minor": 0
      },
      "text/plain": [
       "Generating train split: 0 examples [00:00, ? examples/s]"
      ]
     },
     "metadata": {},
     "output_type": "display_data"
    },
    {
     "data": {
      "application/vnd.jupyter.widget-view+json": {
       "model_id": "03153f49bfe64baab8fd28ed4c518c36",
       "version_major": 2,
       "version_minor": 0
      },
      "text/plain": [
       "Generating validation split: 0 examples [00:00, ? examples/s]"
      ]
     },
     "metadata": {},
     "output_type": "display_data"
    },
    {
     "data": {
      "application/vnd.jupyter.widget-view+json": {
       "model_id": "25bc7724851c4e68abc3e344911db2a8",
       "version_major": 2,
       "version_minor": 0
      },
      "text/plain": [
       "Generating test split: 0 examples [00:00, ? examples/s]"
      ]
     },
     "metadata": {},
     "output_type": "display_data"
    }
   ],
   "source": [
    "dataset_id = \"conll2003\"\n",
    "dataset = load_dataset(dataset_id)"
   ]
  },
  {
   "cell_type": "code",
   "execution_count": 3,
   "id": "87d3b9f8-9aad-4ed6-b3aa-56d14ddeba1c",
   "metadata": {},
   "outputs": [
    {
     "data": {
      "text/plain": [
       "DatasetDict({\n",
       "    train: Dataset({\n",
       "        features: ['id', 'tokens', 'pos_tags', 'chunk_tags', 'ner_tags'],\n",
       "        num_rows: 14041\n",
       "    })\n",
       "    validation: Dataset({\n",
       "        features: ['id', 'tokens', 'pos_tags', 'chunk_tags', 'ner_tags'],\n",
       "        num_rows: 3250\n",
       "    })\n",
       "    test: Dataset({\n",
       "        features: ['id', 'tokens', 'pos_tags', 'chunk_tags', 'ner_tags'],\n",
       "        num_rows: 3453\n",
       "    })\n",
       "})"
      ]
     },
     "execution_count": 3,
     "metadata": {},
     "output_type": "execute_result"
    }
   ],
   "source": [
    "dataset"
   ]
  },
  {
   "cell_type": "code",
   "execution_count": 5,
   "id": "adb1ad1b-e9ef-4a04-999a-dfa4be212e1f",
   "metadata": {},
   "outputs": [
    {
     "data": {
      "text/plain": [
       "{'id': '0',\n",
       " 'tokens': ['EU',\n",
       "  'rejects',\n",
       "  'German',\n",
       "  'call',\n",
       "  'to',\n",
       "  'boycott',\n",
       "  'British',\n",
       "  'lamb',\n",
       "  '.'],\n",
       " 'pos_tags': [22, 42, 16, 21, 35, 37, 16, 21, 7],\n",
       " 'chunk_tags': [11, 21, 11, 12, 21, 22, 11, 12, 0],\n",
       " 'ner_tags': [3, 0, 7, 0, 0, 0, 7, 0, 0]}"
      ]
     },
     "execution_count": 5,
     "metadata": {},
     "output_type": "execute_result"
    }
   ],
   "source": [
    "dataset[\"train\"][0]"
   ]
  },
  {
   "cell_type": "code",
   "execution_count": 7,
   "id": "7ac5f0fb-4a14-4d52-a06f-abebe5be1fd0",
   "metadata": {},
   "outputs": [],
   "source": [
    "from datasets import ClassLabel, Sequence\n",
    "import random\n",
    "import pandas as pd\n",
    "from IPython.display import display, HTML\n",
    "\n",
    "def show_random_elements(dataset, num_examples=10):\n",
    "    assert num_examples <= len(dataset), \"Can't pick more elements than there are in the dataset.\"\n",
    "    picks = []\n",
    "    for _ in range(num_examples):\n",
    "        pick = random.randint(0, len(dataset)-1)\n",
    "        while pick in picks:\n",
    "            pick = random.randint(0, len(dataset)-1)\n",
    "        picks.append(pick)\n",
    "    \n",
    "    df = pd.DataFrame(dataset[picks])\n",
    "    for column, typ in dataset.features.items():\n",
    "        if isinstance(typ, ClassLabel):\n",
    "            df[column] = df[column].transform(lambda i: typ.names[i])\n",
    "        elif isinstance(typ, Sequence) and isinstance(typ.feature, ClassLabel):\n",
    "            df[column] = df[column].transform(lambda x: [typ.feature.names[i] for i in x])\n",
    "    display(HTML(df.to_html()))"
   ]
  },
  {
   "cell_type": "code",
   "execution_count": 9,
   "id": "fe293575-2b96-4c8b-a1d1-3ac1830aee2c",
   "metadata": {},
   "outputs": [
    {
     "data": {
      "text/html": [
       "<table border=\"1\" class=\"dataframe\">\n",
       "  <thead>\n",
       "    <tr style=\"text-align: right;\">\n",
       "      <th></th>\n",
       "      <th>id</th>\n",
       "      <th>tokens</th>\n",
       "      <th>pos_tags</th>\n",
       "      <th>chunk_tags</th>\n",
       "      <th>ner_tags</th>\n",
       "    </tr>\n",
       "  </thead>\n",
       "  <tbody>\n",
       "    <tr>\n",
       "      <th>0</th>\n",
       "      <td>12530</td>\n",
       "      <td>[SEATTLE, 69, 63, .523, 5, 1/2]</td>\n",
       "      <td>[NNP, CD, CD, CD, CD, CD]</td>\n",
       "      <td>[B-NP, I-NP, I-NP, I-NP, I-NP, I-NP]</td>\n",
       "      <td>[B-ORG, O, O, O, O, O]</td>\n",
       "    </tr>\n",
       "    <tr>\n",
       "      <th>1</th>\n",
       "      <td>494</td>\n",
       "      <td>[(, 7-1, ), 6-4]</td>\n",
       "      <td>[(, CD, ), CD]</td>\n",
       "      <td>[B-LST, B-NP, O, B-NP]</td>\n",
       "      <td>[O, O, O, O]</td>\n",
       "    </tr>\n",
       "    <tr>\n",
       "      <th>2</th>\n",
       "      <td>714</td>\n",
       "      <td>[Marcos, Ondruska, (, South, Africa, ), vs., Felix, Mantilla, (, Spain, )]</td>\n",
       "      <td>[NNP, NNP, (, NNP, NNP, ), IN, NNP, NNP, (, NNP, )]</td>\n",
       "      <td>[B-NP, I-NP, O, B-NP, I-NP, O, B-PP, B-NP, I-NP, O, B-NP, O]</td>\n",
       "      <td>[B-PER, I-PER, O, B-LOC, I-LOC, O, O, B-PER, I-PER, O, B-LOC, O]</td>\n",
       "    </tr>\n",
       "    <tr>\n",
       "      <th>3</th>\n",
       "      <td>12975</td>\n",
       "      <td>[Defence, Minister, Chavalit, Yongchaiyudh, ,, head, of, coalition, member, the, New, Aspiration, Party, ,, was, the, second, choice, for, prime, minister, ,, the, poll, showed, .]</td>\n",
       "      <td>[NN, NNP, NNP, NNP, ,, NN, IN, NN, NN, DT, NNP, NNP, NNP, ,, VBD, DT, JJ, NN, IN, JJ, NN, ,, DT, NN, VBD, .]</td>\n",
       "      <td>[B-NP, I-NP, I-NP, I-NP, O, B-NP, B-PP, B-NP, I-NP, B-NP, I-NP, I-NP, I-NP, O, B-VP, B-NP, I-NP, I-NP, B-PP, B-NP, I-NP, O, B-NP, I-NP, B-VP, O]</td>\n",
       "      <td>[O, O, B-PER, I-PER, O, O, O, O, O, O, B-ORG, I-ORG, I-ORG, O, O, O, O, O, O, O, O, O, O, O, O, O]</td>\n",
       "    </tr>\n",
       "    <tr>\n",
       "      <th>4</th>\n",
       "      <td>2558</td>\n",
       "      <td>[Battersby, said, he, was, satisfied, with, the, security, arrangements, .]</td>\n",
       "      <td>[JJ, VBD, PRP, VBD, JJ, IN, DT, NN, NNS, .]</td>\n",
       "      <td>[B-NP, B-VP, B-NP, B-VP, B-ADJP, B-PP, B-NP, I-NP, I-NP, O]</td>\n",
       "      <td>[B-PER, O, O, O, O, O, O, O, O, O]</td>\n",
       "    </tr>\n",
       "    <tr>\n",
       "      <th>5</th>\n",
       "      <td>10015</td>\n",
       "      <td>[(, Sweden, )]</td>\n",
       "      <td>[(, NNP, )]</td>\n",
       "      <td>[O, B-NP, O]</td>\n",
       "      <td>[O, B-LOC, O]</td>\n",
       "    </tr>\n",
       "    <tr>\n",
       "      <th>6</th>\n",
       "      <td>5836</td>\n",
       "      <td>[']</td>\n",
       "      <td>['']</td>\n",
       "      <td>[O]</td>\n",
       "      <td>[O]</td>\n",
       "    </tr>\n",
       "    <tr>\n",
       "      <th>7</th>\n",
       "      <td>9261</td>\n",
       "      <td>[Spring, Chg, Durum, (, m, ), Chg, White, Chg]</td>\n",
       "      <td>[NNP, NNP, NNP, (, VBP, ), NNP, NNP, NNP]</td>\n",
       "      <td>[B-NP, I-NP, I-NP, O, B-VP, O, B-NP, I-NP, I-NP]</td>\n",
       "      <td>[O, O, O, O, O, O, O, O, O]</td>\n",
       "    </tr>\n",
       "    <tr>\n",
       "      <th>8</th>\n",
       "      <td>3942</td>\n",
       "      <td>[6,000, .]</td>\n",
       "      <td>[CD, .]</td>\n",
       "      <td>[B-NP, O]</td>\n",
       "      <td>[O, O]</td>\n",
       "    </tr>\n",
       "    <tr>\n",
       "      <th>9</th>\n",
       "      <td>7958</td>\n",
       "      <td>[Current, 400, million, 260, million, 231, million]</td>\n",
       "      <td>[JJ, CD, CD, CD, CD, CD, CD]</td>\n",
       "      <td>[B-NP, I-NP, I-NP, I-NP, I-NP, I-NP, I-NP]</td>\n",
       "      <td>[O, O, O, O, O, O, O]</td>\n",
       "    </tr>\n",
       "  </tbody>\n",
       "</table>"
      ],
      "text/plain": [
       "<IPython.core.display.HTML object>"
      ]
     },
     "metadata": {},
     "output_type": "display_data"
    }
   ],
   "source": [
    "show_random_elements(dataset[\"train\"])"
   ]
  },
  {
   "cell_type": "code",
   "execution_count": null,
   "id": "78717522-d281-40d2-9e9d-4f54812cf428",
   "metadata": {},
   "outputs": [],
   "source": []
  }
 ],
 "metadata": {
  "kernelspec": {
   "display_name": "Python 3 (ipykernel)",
   "language": "python",
   "name": "python3"
  },
  "language_info": {
   "codemirror_mode": {
    "name": "ipython",
    "version": 3
   },
   "file_extension": ".py",
   "mimetype": "text/x-python",
   "name": "python",
   "nbconvert_exporter": "python",
   "pygments_lexer": "ipython3",
   "version": "3.10.13"
  }
 },
 "nbformat": 4,
 "nbformat_minor": 5
}
