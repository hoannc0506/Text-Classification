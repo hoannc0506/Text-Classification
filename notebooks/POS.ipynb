{
 "cells": [
  {
   "cell_type": "code",
   "execution_count": 1,
   "id": "441ed02f-17f7-4dd9-98f7-82292665806a",
   "metadata": {
    "execution": {
     "iopub.execute_input": "2024-02-26T15:11:50.860979Z",
     "iopub.status.busy": "2024-02-26T15:11:50.860471Z",
     "iopub.status.idle": "2024-02-26T15:12:09.122273Z",
     "shell.execute_reply": "2024-02-26T15:12:09.120565Z",
     "shell.execute_reply.started": "2024-02-26T15:11:50.860933Z"
    }
   },
   "outputs": [
    {
     "name": "stderr",
     "output_type": "stream",
     "text": [
      "[nltk_data] Downloading package treebank to /home/hoannc8/nltk_data...\n",
      "[nltk_data]   Unzipping corpora/treebank.zip.\n"
     ]
    },
    {
     "data": {
      "text/plain": [
       "True"
      ]
     },
     "execution_count": 1,
     "metadata": {},
     "output_type": "execute_result"
    }
   ],
   "source": [
    "import nltk\n",
    "nltk.download(\"treebank\")"
   ]
  },
  {
   "cell_type": "code",
   "execution_count": 2,
   "id": "900b750a-a67d-4295-a5b4-d965028811dc",
   "metadata": {
    "execution": {
     "iopub.execute_input": "2024-02-26T15:20:48.792114Z",
     "iopub.status.busy": "2024-02-26T15:20:48.791594Z",
     "iopub.status.idle": "2024-02-26T15:20:48.934864Z",
     "shell.execute_reply": "2024-02-26T15:20:48.933292Z",
     "shell.execute_reply.started": "2024-02-26T15:20:48.792076Z"
    }
   },
   "outputs": [],
   "source": [
    "tagged_sentences = nltk.corpus.treebank.tagged_sents()"
   ]
  },
  {
   "cell_type": "code",
   "execution_count": 5,
   "id": "555d7178-38fa-4656-a29b-e7b07bce45fb",
   "metadata": {
    "execution": {
     "iopub.execute_input": "2024-02-26T15:21:08.542861Z",
     "iopub.status.busy": "2024-02-26T15:21:08.542260Z",
     "iopub.status.idle": "2024-02-26T15:21:08.554754Z",
     "shell.execute_reply": "2024-02-26T15:21:08.553387Z",
     "shell.execute_reply.started": "2024-02-26T15:21:08.542811Z"
    }
   },
   "outputs": [
    {
     "data": {
      "text/plain": [
       "[[('Pierre', 'NNP'), ('Vinken', 'NNP'), (',', ','), ('61', 'CD'), ('years', 'NNS'), ('old', 'JJ'), (',', ','), ('will', 'MD'), ('join', 'VB'), ('the', 'DT'), ('board', 'NN'), ('as', 'IN'), ('a', 'DT'), ('nonexecutive', 'JJ'), ('director', 'NN'), ('Nov.', 'NNP'), ('29', 'CD'), ('.', '.')], [('Mr.', 'NNP'), ('Vinken', 'NNP'), ('is', 'VBZ'), ('chairman', 'NN'), ('of', 'IN'), ('Elsevier', 'NNP'), ('N.V.', 'NNP'), (',', ','), ('the', 'DT'), ('Dutch', 'NNP'), ('publishing', 'VBG'), ('group', 'NN'), ('.', '.')], ...]"
      ]
     },
     "execution_count": 5,
     "metadata": {},
     "output_type": "execute_result"
    }
   ],
   "source": [
    "tagged_sentences"
   ]
  },
  {
   "cell_type": "code",
   "execution_count": null,
   "id": "4f6d0bec-8de2-4b00-87f8-888b33189597",
   "metadata": {},
   "outputs": [],
   "source": []
  }
 ],
 "metadata": {
  "kernelspec": {
   "display_name": "Torch-2.1.0-py310",
   "language": "python",
   "name": "torch_py310"
  },
  "language_info": {
   "codemirror_mode": {
    "name": "ipython",
    "version": 3
   },
   "file_extension": ".py",
   "mimetype": "text/x-python",
   "name": "python",
   "nbconvert_exporter": "python",
   "pygments_lexer": "ipython3",
   "version": "3.10.13"
  }
 },
 "nbformat": 4,
 "nbformat_minor": 5
}
