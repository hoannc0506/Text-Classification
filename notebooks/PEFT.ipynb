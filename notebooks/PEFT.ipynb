{
 "cells": [
  {
   "cell_type": "markdown",
   "id": "70e3b573-3a5c-4a5a-9709-c0cfb6046ab3",
   "metadata": {},
   "source": [
    "# Parameter efficient finetuning "
   ]
  },
  {
   "cell_type": "code",
   "execution_count": 1,
   "id": "a82ab245-22b1-44e0-abf8-82e59f127045",
   "metadata": {
    "execution": {
     "iopub.execute_input": "2024-02-16T07:54:00.025249Z",
     "iopub.status.busy": "2024-02-16T07:54:00.024759Z",
     "iopub.status.idle": "2024-02-16T07:54:09.994545Z",
     "shell.execute_reply": "2024-02-16T07:54:09.993129Z",
     "shell.execute_reply.started": "2024-02-16T07:54:00.025197Z"
    }
   },
   "outputs": [],
   "source": [
    "from transformers import AutoTokenizer, AutoModelForSeq2SeqLM\n",
    "\n",
    "from peft import (\n",
    "    get_peft_model,\n",
    "    LoraConfig,\n",
    ")\n",
    "\n",
    "lora_config = LoraConfig(\n",
    "    task_type=\"SEQ_CLS\",\n",
    "    r = 8,\n",
    "    lora_alpha = 32, # LoRA scaling factor\n",
    "    lora_dropout = 0.05,\n",
    "    target_modules = [\"q\", \"v\"],\n",
    "    bias = \"none\" # Specifies if the bias parameters should be trained. Can be 'none', 'all' or 'lora_only'\n",
    ")"
   ]
  },
  {
   "cell_type": "code",
   "execution_count": null,
   "id": "09db123b-f580-4301-b36d-e13e722e1bf4",
   "metadata": {},
   "outputs": [],
   "source": [
    "model_name = \"google/flan-t5-xl\"\n",
    "model = AutoModelForSeq2SeqLM.from_pretrained(model_name)\n",
    "lora_model = get_peft_model(model, lora_config)\n",
    "lora_model.print_trainable_parameters()\n",
    "lora_model"
   ]
  },
  {
   "cell_type": "code",
   "execution_count": null,
   "id": "7c7a3c29-c513-46be-ba49-8ef7e32a3b55",
   "metadata": {},
   "outputs": [],
   "source": []
  }
 ],
 "metadata": {
  "kernelspec": {
   "display_name": "Torch-2.1.0-py310",
   "language": "python",
   "name": "torch_py310"
  },
  "language_info": {
   "codemirror_mode": {
    "name": "ipython",
    "version": 3
   },
   "file_extension": ".py",
   "mimetype": "text/x-python",
   "name": "python",
   "nbconvert_exporter": "python",
   "pygments_lexer": "ipython3",
   "version": "3.10.13"
  }
 },
 "nbformat": 4,
 "nbformat_minor": 5
}
