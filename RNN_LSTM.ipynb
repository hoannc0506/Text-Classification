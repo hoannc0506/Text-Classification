{
 "cells": [
  {
   "cell_type": "code",
   "execution_count": 1,
   "id": "58d867ef-c70e-4143-b52d-823cd38a6745",
   "metadata": {
    "execution": {
     "iopub.execute_input": "2023-12-17T08:34:35.850229Z",
     "iopub.status.busy": "2023-12-17T08:34:35.849782Z",
     "iopub.status.idle": "2023-12-17T08:34:41.280687Z",
     "shell.execute_reply": "2023-12-17T08:34:41.279117Z",
     "shell.execute_reply.started": "2023-12-17T08:34:35.850181Z"
    }
   },
   "outputs": [],
   "source": [
    "import torch\n",
    "import torch.nn as nn\n",
    "import torchtext\n",
    "from torchtext.data.utils import get_tokenizer\n",
    "from torchtext.vocab import build_vocab_from_iterator\n",
    "import numpy as np"
   ]
  },
  {
   "cell_type": "markdown",
   "id": "afad693a-561d-43de-9bfa-de1d5e0fb60a",
   "metadata": {},
   "source": [
    "# Text representation "
   ]
  },
  {
   "cell_type": "markdown",
   "id": "b9a5369c-0873-4e83-9b9a-23bccee750d7",
   "metadata": {},
   "source": [
    "## Vectorization\n",
    "Convert text to indices vector"
   ]
  },
  {
   "cell_type": "code",
   "execution_count": 2,
   "id": "4d5ec27a-d626-4af9-8299-7fcf7c40bdd9",
   "metadata": {
    "execution": {
     "iopub.execute_input": "2023-12-17T08:34:41.284633Z",
     "iopub.status.busy": "2023-12-17T08:34:41.284048Z",
     "iopub.status.idle": "2023-12-17T08:34:41.294853Z",
     "shell.execute_reply": "2023-12-17T08:34:41.293584Z",
     "shell.execute_reply.started": "2023-12-17T08:34:41.284585Z"
    }
   },
   "outputs": [],
   "source": [
    "# Init tokenizer\n",
    "tokenizer = get_tokenizer('basic_english')\n",
    "\n",
    "# using yield for large corpus\n",
    "def yield_tokens(examples):\n",
    "    for text in examples:\n",
    "        yield tokenizer(text)\n",
    "\n",
    "\n",
    "def vectorize(text, vocab, sequence_length=5):\n",
    "    tokens = tokenizer(text)\n",
    "    tokens = [vocab[token] for token in tokens]\n",
    "\n",
    "    # padding, if len(text) > sequence_lenght -> num_pad < 0\n",
    "    num_pads = sequence_length - len(tokens)\n",
    "    tokens = tokens[:sequence_length] + [vocab[\"<pad>\"]]*num_pads\n",
    "    \n",
    "    return torch.tensor(tokens, dtype=torch.long)"
   ]
  },
  {
   "cell_type": "code",
   "execution_count": 3,
   "id": "e591e931-ba7f-4a42-94c7-94f6f8bb591d",
   "metadata": {
    "execution": {
     "iopub.execute_input": "2023-12-17T08:34:41.300708Z",
     "iopub.status.busy": "2023-12-17T08:34:41.300240Z",
     "iopub.status.idle": "2023-12-17T08:34:41.365007Z",
     "shell.execute_reply": "2023-12-17T08:34:41.363612Z",
     "shell.execute_reply.started": "2023-12-17T08:34:41.300663Z"
    }
   },
   "outputs": [
    {
     "data": {
      "text/plain": [
       "{'learning': 7,\n",
       " 'is': 6,\n",
       " 'are': 4,\n",
       " 'cs': 5,\n",
       " 'a': 3,\n",
       " 'ai': 2,\n",
       " '<pad>': 1,\n",
       " '<unk>': 0}"
      ]
     },
     "execution_count": 3,
     "metadata": {},
     "output_type": "execute_result"
    }
   ],
   "source": [
    "# sample data\n",
    "sample1 = 'We are learning AI'\n",
    "sample2 = 'AI is a CS topic'\n",
    "data = [sample1, sample2]\n",
    "\n",
    "# create vocab size\n",
    "vocab_size = 8\n",
    "vocab = build_vocab_from_iterator(yield_tokens(data),\n",
    "                                  max_tokens=vocab_size,\n",
    "                                  specials=[\"<unk>\", \n",
    "                                            \"<pad>\"])\n",
    "vocab.set_default_index(vocab[\"<unk>\"])\n",
    "vocab.get_stoi()"
   ]
  },
  {
   "cell_type": "code",
   "execution_count": 4,
   "id": "18b566bd-e6ae-4112-9cba-dce9703fbc10",
   "metadata": {
    "execution": {
     "iopub.execute_input": "2023-12-17T08:34:41.371459Z",
     "iopub.status.busy": "2023-12-17T08:34:41.370493Z",
     "iopub.status.idle": "2023-12-17T08:34:41.382435Z",
     "shell.execute_reply": "2023-12-17T08:34:41.381141Z",
     "shell.execute_reply.started": "2023-12-17T08:34:41.371409Z"
    }
   },
   "outputs": [
    {
     "data": {
      "text/plain": [
       "(tensor([0, 4, 7, 2, 1]), tensor([2, 6, 3, 5, 0]))"
      ]
     },
     "execution_count": 4,
     "metadata": {},
     "output_type": "execute_result"
    }
   ],
   "source": [
    "SEQUENCE_LENGTH = 5\n",
    "v1 = vectorize(sample1, vocab, sequence_length=SEQUENCE_LENGTH)\n",
    "v2 = vectorize(sample2, vocab, sequence_length=SEQUENCE_LENGTH)\n",
    "v1, v2"
   ]
  },
  {
   "cell_type": "markdown",
   "id": "870d2255-f030-414b-9191-76b9bc1b905d",
   "metadata": {},
   "source": [
    "## Embedding\n",
    "Convert indices vector to tensor using embedding layer (trainable embedding matrix)"
   ]
  },
  {
   "cell_type": "code",
   "execution_count": 9,
   "id": "021851b4-1c8c-4559-9ad3-9a9d84747926",
   "metadata": {
    "execution": {
     "iopub.execute_input": "2023-12-17T08:39:03.270800Z",
     "iopub.status.busy": "2023-12-17T08:39:03.268327Z",
     "iopub.status.idle": "2023-12-17T08:39:03.305706Z",
     "shell.execute_reply": "2023-12-17T08:39:03.304067Z",
     "shell.execute_reply.started": "2023-12-17T08:39:03.270706Z"
    }
   },
   "outputs": [
    {
     "name": "stdout",
     "output_type": "stream",
     "text": [
      "torch.Size([8, 4])\n"
     ]
    }
   ],
   "source": [
    "# Set random seed for PyTorch\n",
    "torch.manual_seed(42)\n",
    "\n",
    "embed_dim = 4\n",
    "embedding = nn.Embedding(num_embeddings=vocab_size, embedding_dim=embed_dim)\n",
    "print(embedding.weight.shape)"
   ]
  },
  {
   "cell_type": "code",
   "execution_count": 53,
   "id": "e2850e07-7754-4fb6-95d2-f4665add9d88",
   "metadata": {
    "execution": {
     "iopub.execute_input": "2023-12-17T10:52:29.122567Z",
     "iopub.status.busy": "2023-12-17T10:52:29.121950Z",
     "iopub.status.idle": "2023-12-17T10:52:29.132894Z",
     "shell.execute_reply": "2023-12-17T10:52:29.131490Z",
     "shell.execute_reply.started": "2023-12-17T10:52:29.122509Z"
    }
   },
   "outputs": [
    {
     "data": {
      "text/plain": [
       "(torch.Size([5, 4]), torch.Size([5, 4]))"
      ]
     },
     "execution_count": 53,
     "metadata": {},
     "output_type": "execute_result"
    }
   ],
   "source": [
    "e1 = embedding(v1)\n",
    "e2 = embedding(v2)\n",
    "e1.shape, e2.shape"
   ]
  },
  {
   "cell_type": "markdown",
   "id": "ffb65b19-837c-4a32-b5a4-3b76408529b3",
   "metadata": {},
   "source": [
    "# RNN_layer"
   ]
  },
  {
   "cell_type": "code",
   "execution_count": 45,
   "id": "2bcddb7d-c0f7-4cff-bf67-8a8d395a5237",
   "metadata": {
    "execution": {
     "iopub.execute_input": "2023-12-17T10:48:36.405421Z",
     "iopub.status.busy": "2023-12-17T10:48:36.404760Z",
     "iopub.status.idle": "2023-12-17T10:48:36.418761Z",
     "shell.execute_reply": "2023-12-17T10:48:36.417488Z",
     "shell.execute_reply.started": "2023-12-17T10:48:36.405364Z"
    }
   },
   "outputs": [
    {
     "data": {
      "text/plain": [
       "=================================================================\n",
       "Layer (type:depth-idx)                   Param #\n",
       "=================================================================\n",
       "RNN                                      51\n",
       "=================================================================\n",
       "Total params: 51\n",
       "Trainable params: 51\n",
       "Non-trainable params: 0\n",
       "================================================================="
      ]
     },
     "execution_count": 45,
     "metadata": {},
     "output_type": "execute_result"
    }
   ],
   "source": [
    "import torchinfo\n",
    "\n",
    "sequence_lenth = 5\n",
    "embed_dim = 4\n",
    "hidden_dim = 3\n",
    "rnn = nn.RNN(embed_dim, hidden_dim, num_layers=2, batch_first=True)\n",
    "# input = (bath, L, embed_dim)\n",
    "torchinfo.summary(rnn, input=(1, sequence_lenth, embed_dim))"
   ]
  },
  {
   "cell_type": "code",
   "execution_count": 46,
   "id": "e28dc125-4929-4419-94b8-4d6390cad043",
   "metadata": {
    "execution": {
     "iopub.execute_input": "2023-12-17T10:48:52.486858Z",
     "iopub.status.busy": "2023-12-17T10:48:52.486249Z",
     "iopub.status.idle": "2023-12-17T10:48:52.496043Z",
     "shell.execute_reply": "2023-12-17T10:48:52.494793Z",
     "shell.execute_reply.started": "2023-12-17T10:48:52.486806Z"
    }
   },
   "outputs": [
    {
     "data": {
      "text/plain": [
       "(torch.Size([5, 4]), torch.Size([1, 5, 4]))"
      ]
     },
     "execution_count": 46,
     "metadata": {},
     "output_type": "execute_result"
    }
   ],
   "source": [
    "# input embedding 1\n",
    "e1.shape, e1.unsqueeze(0).shape"
   ]
  },
  {
   "cell_type": "code",
   "execution_count": 47,
   "id": "a0284cba-b5ff-449a-9f26-dc6a6fe89664",
   "metadata": {
    "execution": {
     "iopub.execute_input": "2023-12-17T10:48:55.544727Z",
     "iopub.status.busy": "2023-12-17T10:48:55.544109Z",
     "iopub.status.idle": "2023-12-17T10:48:55.555035Z",
     "shell.execute_reply": "2023-12-17T10:48:55.553775Z",
     "shell.execute_reply.started": "2023-12-17T10:48:55.544677Z"
    }
   },
   "outputs": [
    {
     "data": {
      "text/plain": [
       "(torch.Size([1, 5, 3]), torch.Size([2, 1, 3]))"
      ]
     },
     "execution_count": 47,
     "metadata": {},
     "output_type": "execute_result"
    }
   ],
   "source": [
    "rnn_op, rnn_hn = rnn(e1.unsqueeze(0))\n",
    "rnn_op.shape, rnn_hn.shape"
   ]
  },
  {
   "cell_type": "markdown",
   "id": "bebeaaac-b10c-4e29-a342-9bbb41c70d8c",
   "metadata": {},
   "source": [
    "##  Visualize output"
   ]
  },
  {
   "cell_type": "code",
   "execution_count": 48,
   "id": "08b2d420-b134-4c7a-93b4-4c12ea12e637",
   "metadata": {
    "execution": {
     "iopub.execute_input": "2023-12-17T10:48:55.919208Z",
     "iopub.status.busy": "2023-12-17T10:48:55.918381Z",
     "iopub.status.idle": "2023-12-17T10:48:55.931440Z",
     "shell.execute_reply": "2023-12-17T10:48:55.929914Z",
     "shell.execute_reply.started": "2023-12-17T10:48:55.919129Z"
    }
   },
   "outputs": [
    {
     "data": {
      "text/plain": [
       "tensor([[ 0.3051,  0.1533, -0.8618]], grad_fn=<SliceBackward0>)"
      ]
     },
     "execution_count": 48,
     "metadata": {},
     "output_type": "execute_result"
    }
   ],
   "source": [
    "# all hiden state [batch, L, H_out]\n",
    "rnn_op[:, -1, :]"
   ]
  },
  {
   "cell_type": "code",
   "execution_count": 51,
   "id": "a9f8e08f-574f-48ff-914f-4509e2db8673",
   "metadata": {
    "execution": {
     "iopub.execute_input": "2023-12-17T10:50:56.787303Z",
     "iopub.status.busy": "2023-12-17T10:50:56.786714Z",
     "iopub.status.idle": "2023-12-17T10:50:56.796789Z",
     "shell.execute_reply": "2023-12-17T10:50:56.795548Z",
     "shell.execute_reply.started": "2023-12-17T10:50:56.787252Z"
    }
   },
   "outputs": [
    {
     "data": {
      "text/plain": [
       "tensor([[ 0.3051,  0.1533, -0.8618]], grad_fn=<SliceBackward0>)"
      ]
     },
     "execution_count": 51,
     "metadata": {},
     "output_type": "execute_result"
    }
   ],
   "source": [
    "# final hidden state for each element in the batch.\n",
    "# [num_layers, N, H_out]\n",
    "rnn_hn[-1, :, :]"
   ]
  },
  {
   "cell_type": "code",
   "execution_count": 57,
   "id": "fe42f639-e96d-4948-bdcc-a38124119fd9",
   "metadata": {
    "execution": {
     "iopub.execute_input": "2023-12-17T10:57:08.861845Z",
     "iopub.status.busy": "2023-12-17T10:57:08.861162Z",
     "iopub.status.idle": "2023-12-17T10:57:08.873117Z",
     "shell.execute_reply": "2023-12-17T10:57:08.871823Z",
     "shell.execute_reply.started": "2023-12-17T10:57:08.861790Z"
    }
   },
   "outputs": [
    {
     "data": {
      "text/plain": [
       "(torch.Size([8, 5, 3]), torch.Size([2, 8, 3]))"
      ]
     },
     "execution_count": 57,
     "metadata": {},
     "output_type": "execute_result"
    }
   ],
   "source": [
    "# batch = 8 ?\n",
    "batch_size = 8\n",
    "rnn_op, rnn_hn = rnn(torch.rand([batch_size, 5, 4]))\n",
    "rnn_op.shape, rnn_hn.shape"
   ]
  },
  {
   "cell_type": "markdown",
   "id": "b660eb4a-09a4-4e3c-8fd5-d1a272b84979",
   "metadata": {},
   "source": [
    "## Bidirectional"
   ]
  },
  {
   "cell_type": "code",
   "execution_count": 67,
   "id": "0146709a-643b-43e0-bd43-083e5c0e4c8e",
   "metadata": {
    "execution": {
     "iopub.execute_input": "2023-12-17T11:17:37.245494Z",
     "iopub.status.busy": "2023-12-17T11:17:37.244904Z",
     "iopub.status.idle": "2023-12-17T11:17:37.256766Z",
     "shell.execute_reply": "2023-12-17T11:17:37.255829Z",
     "shell.execute_reply.started": "2023-12-17T11:17:37.245444Z"
    }
   },
   "outputs": [
    {
     "data": {
      "text/plain": [
       "=================================================================\n",
       "Layer (type:depth-idx)                   Param #\n",
       "=================================================================\n",
       "RNN                                      54\n",
       "=================================================================\n",
       "Total params: 54\n",
       "Trainable params: 54\n",
       "Non-trainable params: 0\n",
       "================================================================="
      ]
     },
     "execution_count": 67,
     "metadata": {},
     "output_type": "execute_result"
    }
   ],
   "source": [
    "batch_size = 8\n",
    "sequence_lenth = 5\n",
    "embed_dim = 4\n",
    "hidden_dim = 3\n",
    "num_layers = 1\n",
    "rnn = nn.RNN(embed_dim, hidden_dim, num_layers, bidirectional=True, batch_first=True)\n",
    "torchinfo.summary(rnn, input=(batch_size, sequence_lenth, embed_dim))"
   ]
  },
  {
   "cell_type": "code",
   "execution_count": 68,
   "id": "58521ecd-d2ed-4d80-91d1-7d4bad28c821",
   "metadata": {
    "execution": {
     "iopub.execute_input": "2023-12-17T11:17:37.438284Z",
     "iopub.status.busy": "2023-12-17T11:17:37.437806Z",
     "iopub.status.idle": "2023-12-17T11:17:37.446897Z",
     "shell.execute_reply": "2023-12-17T11:17:37.445949Z",
     "shell.execute_reply.started": "2023-12-17T11:17:37.438238Z"
    }
   },
   "outputs": [
    {
     "data": {
      "text/plain": [
       "(torch.Size([8, 5, 6]), torch.Size([2, 8, 3]))"
      ]
     },
     "execution_count": 68,
     "metadata": {},
     "output_type": "execute_result"
    }
   ],
   "source": [
    "rnn_op, rnn_hn = rnn(torch.rand([batch_size, sequence_lenth, embed_dim]))\n",
    "rnn_op.shape, rnn_hn.shape"
   ]
  },
  {
   "cell_type": "code",
   "execution_count": null,
   "id": "2fed2b40-eb26-420c-a746-7878f85159c9",
   "metadata": {},
   "outputs": [],
   "source": []
  }
 ],
 "metadata": {
  "kernelspec": {
   "display_name": "Python 3.8.18 ('nlp-py38')",
   "language": "python",
   "name": "python3"
  },
  "language_info": {
   "codemirror_mode": {
    "name": "ipython",
    "version": 3
   },
   "file_extension": ".py",
   "mimetype": "text/x-python",
   "name": "python",
   "nbconvert_exporter": "python",
   "pygments_lexer": "ipython3",
   "version": "3.8.18"
  },
  "vscode": {
   "interpreter": {
    "hash": "f31e898783b493e7c4085519b97f476866507c7753ea1dd513e8d24c9fa529f6"
   }
  }
 },
 "nbformat": 4,
 "nbformat_minor": 5
}
